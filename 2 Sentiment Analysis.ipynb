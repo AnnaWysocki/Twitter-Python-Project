{
 "cells": [
  {
   "cell_type": "markdown",
   "metadata": {},
   "source": [
    "# Final Project Part 2: Sentiment Analysis\n",
    "Madeline Craft"
   ]
  },
  {
   "cell_type": "markdown",
   "metadata": {},
   "source": [
    "#### Data Formatting"
   ]
  },
  {
   "cell_type": "markdown",
   "metadata": {},
   "source": [
    "First, I will import every package I will need for this project."
   ]
  },
  {
   "cell_type": "code",
   "execution_count": 69,
   "metadata": {},
   "outputs": [
    {
     "name": "stdout",
     "output_type": "stream",
     "text": [
      "[nltk_data] Downloading package punkt to\n",
      "[nltk_data]     /Users/madelinecraft/nltk_data...\n",
      "[nltk_data]   Package punkt is already up-to-date!\n",
      "[nltk_data] Downloading package stopwords to\n",
      "[nltk_data]     /Users/madelinecraft/nltk_data...\n",
      "[nltk_data]   Package stopwords is already up-to-date!\n"
     ]
    }
   ],
   "source": [
    "import pandas as pd\n",
    "import matplotlib.pyplot as plt\n",
    "import seaborn as sns\n",
    "import os as os\n",
    "import numpy as np\n",
    "from numpy import genfromtxt\n",
    "import nltk \n",
    "import codecs\n",
    "nltk.download('punkt')\n",
    "from nltk.corpus import stopwords\n",
    "import string\n",
    "nltk.download('stopwords')\n",
    "import operator \n",
    "import json\n",
    "from collections import Counter\n",
    "import re\n",
    "import sys\n",
    "from nltk.stem.porter import PorterStemmer\n",
    "from textblob import TextBlob\n",
    "import csv\n",
    "from textblob import TextBlob\n",
    "from nltk.corpus import stopwords\n",
    "from PIL import Image\n",
    "from wordcloud import WordCloud, STOPWORDS\n",
    "import imageio"
   ]
  },
  {
   "cell_type": "markdown",
   "metadata": {},
   "source": [
    "I need to set the working directory so I can pull the csv files full of web-scraped tweets from Jade."
   ]
  },
  {
   "cell_type": "code",
   "execution_count": 24,
   "metadata": {},
   "outputs": [
    {
     "data": {
      "text/plain": [
       "'/Users/madelinecraft/Desktop/Classes/Python'"
      ]
     },
     "execution_count": 24,
     "metadata": {},
     "output_type": "execute_result"
    }
   ],
   "source": [
    "os.getcwd()\n",
    "os.chdir(\"/Users/madelinecraft/Desktop/Classes/Python\")\n",
    "os.getcwd()"
   ]
  },
  {
   "cell_type": "markdown",
   "metadata": {},
   "source": [
    "The truedata dataframe contains the tweets categorized by Jade as correct information. The falsedata dataframe contains the tweets categorized by Jade as misinformation. "
   ]
  },
  {
   "cell_type": "code",
   "execution_count": 25,
   "metadata": {},
   "outputs": [],
   "source": [
    "truedata = pd.read_csv('TrueTweets.csv',delimiter=',',encoding='utf-8')\n",
    "falsedata = pd.read_csv('FalseTweets.csv',delimiter=',',encoding='utf-8')"
   ]
  },
  {
   "cell_type": "markdown",
   "metadata": {},
   "source": [
    "Because I'm going to join these two dataframes I need to create an indicator variable which indicates which file each observation came from. "
   ]
  },
  {
   "cell_type": "code",
   "execution_count": 26,
   "metadata": {},
   "outputs": [],
   "source": [
    "truedata['true_indicator'] = 1\n",
    "falsedata['true_indicator'] = 0"
   ]
  },
  {
   "cell_type": "markdown",
   "metadata": {},
   "source": [
    "This next cell joins the two dataframes."
   ]
  },
  {
   "cell_type": "code",
   "execution_count": 27,
   "metadata": {},
   "outputs": [],
   "source": [
    "data = pd.concat([truedata, falsedata])"
   ]
  },
  {
   "cell_type": "markdown",
   "metadata": {},
   "source": [
    "I need to drop any missing data from my joined dataframe."
   ]
  },
  {
   "cell_type": "code",
   "execution_count": 28,
   "metadata": {},
   "outputs": [],
   "source": [
    "data.dropna(inplace=True)"
   ]
  },
  {
   "cell_type": "markdown",
   "metadata": {},
   "source": [
    "The next step after reading in the data is preprocessing the data. This includes removing things like stop-words, symbols, numbers, etc. from the tweet. Because I'll be making modifications during preprocessing, I'm creating a new column called \"original_tweet\" to preserve the original tweet. All modifications will be made to the column called \"text\"."
   ]
  },
  {
   "cell_type": "code",
   "execution_count": 29,
   "metadata": {},
   "outputs": [],
   "source": [
    "data['original_tweet'] = data['text']"
   ]
  },
  {
   "cell_type": "markdown",
   "metadata": {},
   "source": [
    "#### Preprocessing"
   ]
  },
  {
   "cell_type": "markdown",
   "metadata": {},
   "source": [
    "To begin the preprocessing stage, I'll turn every uppercase letter into a lowercase letter."
   ]
  },
  {
   "cell_type": "code",
   "execution_count": 30,
   "metadata": {},
   "outputs": [
    {
     "data": {
      "text/html": [
       "<div>\n",
       "<style scoped>\n",
       "    .dataframe tbody tr th:only-of-type {\n",
       "        vertical-align: middle;\n",
       "    }\n",
       "\n",
       "    .dataframe tbody tr th {\n",
       "        vertical-align: top;\n",
       "    }\n",
       "\n",
       "    .dataframe thead th {\n",
       "        text-align: right;\n",
       "    }\n",
       "</style>\n",
       "<table border=\"1\" class=\"dataframe\">\n",
       "  <thead>\n",
       "    <tr style=\"text-align: right;\">\n",
       "      <th></th>\n",
       "      <th>Unnamed: 0</th>\n",
       "      <th>favorite_count</th>\n",
       "      <th>id</th>\n",
       "      <th>retweet_count</th>\n",
       "      <th>text</th>\n",
       "      <th>timestamp</th>\n",
       "      <th>user_follower_count</th>\n",
       "      <th>user_id</th>\n",
       "      <th>user_screen_name</th>\n",
       "      <th>true_indicator</th>\n",
       "      <th>original_tweet</th>\n",
       "    </tr>\n",
       "  </thead>\n",
       "  <tbody>\n",
       "    <tr>\n",
       "      <th>0</th>\n",
       "      <td>0</td>\n",
       "      <td>138</td>\n",
       "      <td>9.960000e+17</td>\n",
       "      <td>50</td>\n",
       "      <td>it's not easy to vaccinate every child. meet d...</td>\n",
       "      <td>Tue May 15 14:00:09 +0000 2018</td>\n",
       "      <td>1927191</td>\n",
       "      <td>17899109.0</td>\n",
       "      <td>b'gatesfoundation'</td>\n",
       "      <td>1</td>\n",
       "      <td>It's not easy to vaccinate every child. Meet D...</td>\n",
       "    </tr>\n",
       "    <tr>\n",
       "      <th>1</th>\n",
       "      <td>1</td>\n",
       "      <td>203</td>\n",
       "      <td>9.940000e+17</td>\n",
       "      <td>95</td>\n",
       "      <td>the largest cholera vaccination drive in histo...</td>\n",
       "      <td>Thu May 10 05:00:05 +0000 2018</td>\n",
       "      <td>1927191</td>\n",
       "      <td>17899109.0</td>\n",
       "      <td>b'gatesfoundation'</td>\n",
       "      <td>1</td>\n",
       "      <td>The largest cholera vaccination drive in histo...</td>\n",
       "    </tr>\n",
       "    <tr>\n",
       "      <th>2</th>\n",
       "      <td>2</td>\n",
       "      <td>513</td>\n",
       "      <td>9.900000e+17</td>\n",
       "      <td>244</td>\n",
       "      <td>developing a universal flu vaccine is more fea...</td>\n",
       "      <td>Fri Apr 27 18:00:06 +0000 2018</td>\n",
       "      <td>1927191</td>\n",
       "      <td>17899109.0</td>\n",
       "      <td>b'gatesfoundation'</td>\n",
       "      <td>1</td>\n",
       "      <td>Developing a universal flu vaccine is more fea...</td>\n",
       "    </tr>\n",
       "    <tr>\n",
       "      <th>3</th>\n",
       "      <td>3</td>\n",
       "      <td>45</td>\n",
       "      <td>9.890000e+17</td>\n",
       "      <td>22</td>\n",
       "      <td>exciting news: our own @johnfmodlin received t...</td>\n",
       "      <td>Thu Apr 26 04:00:06 +0000 2018</td>\n",
       "      <td>1927191</td>\n",
       "      <td>17899109.0</td>\n",
       "      <td>b'gatesfoundation'</td>\n",
       "      <td>1</td>\n",
       "      <td>Exciting news: Our own @JohnFModlin received t...</td>\n",
       "    </tr>\n",
       "    <tr>\n",
       "      <th>4</th>\n",
       "      <td>4</td>\n",
       "      <td>289</td>\n",
       "      <td>9.890000e+17</td>\n",
       "      <td>132</td>\n",
       "      <td>1.5 million children dying from diseases that ...</td>\n",
       "      <td>Wed Apr 25 17:08:50 +0000 2018</td>\n",
       "      <td>1927191</td>\n",
       "      <td>17899109.0</td>\n",
       "      <td>b'gatesfoundation'</td>\n",
       "      <td>1</td>\n",
       "      <td>1.5 million children dying from diseases that ...</td>\n",
       "    </tr>\n",
       "  </tbody>\n",
       "</table>\n",
       "</div>"
      ],
      "text/plain": [
       "   Unnamed: 0  favorite_count            id  retweet_count  \\\n",
       "0           0             138  9.960000e+17             50   \n",
       "1           1             203  9.940000e+17             95   \n",
       "2           2             513  9.900000e+17            244   \n",
       "3           3              45  9.890000e+17             22   \n",
       "4           4             289  9.890000e+17            132   \n",
       "\n",
       "                                                text  \\\n",
       "0  it's not easy to vaccinate every child. meet d...   \n",
       "1  the largest cholera vaccination drive in histo...   \n",
       "2  developing a universal flu vaccine is more fea...   \n",
       "3  exciting news: our own @johnfmodlin received t...   \n",
       "4  1.5 million children dying from diseases that ...   \n",
       "\n",
       "                        timestamp  user_follower_count     user_id  \\\n",
       "0  Tue May 15 14:00:09 +0000 2018              1927191  17899109.0   \n",
       "1  Thu May 10 05:00:05 +0000 2018              1927191  17899109.0   \n",
       "2  Fri Apr 27 18:00:06 +0000 2018              1927191  17899109.0   \n",
       "3  Thu Apr 26 04:00:06 +0000 2018              1927191  17899109.0   \n",
       "4  Wed Apr 25 17:08:50 +0000 2018              1927191  17899109.0   \n",
       "\n",
       "     user_screen_name  true_indicator  \\\n",
       "0  b'gatesfoundation'               1   \n",
       "1  b'gatesfoundation'               1   \n",
       "2  b'gatesfoundation'               1   \n",
       "3  b'gatesfoundation'               1   \n",
       "4  b'gatesfoundation'               1   \n",
       "\n",
       "                                      original_tweet  \n",
       "0  It's not easy to vaccinate every child. Meet D...  \n",
       "1  The largest cholera vaccination drive in histo...  \n",
       "2  Developing a universal flu vaccine is more fea...  \n",
       "3  Exciting news: Our own @JohnFModlin received t...  \n",
       "4  1.5 million children dying from diseases that ...  "
      ]
     },
     "execution_count": 30,
     "metadata": {},
     "output_type": "execute_result"
    }
   ],
   "source": [
    "data['text'] = data['text'].str.lower()\n",
    "data.head()"
   ]
  },
  {
   "cell_type": "markdown",
   "metadata": {},
   "source": [
    "Next, I'll remove all symbols using a regular expression to identify the symbols and replace them with a blank."
   ]
  },
  {
   "cell_type": "code",
   "execution_count": 31,
   "metadata": {},
   "outputs": [
    {
     "data": {
      "text/html": [
       "<div>\n",
       "<style scoped>\n",
       "    .dataframe tbody tr th:only-of-type {\n",
       "        vertical-align: middle;\n",
       "    }\n",
       "\n",
       "    .dataframe tbody tr th {\n",
       "        vertical-align: top;\n",
       "    }\n",
       "\n",
       "    .dataframe thead th {\n",
       "        text-align: right;\n",
       "    }\n",
       "</style>\n",
       "<table border=\"1\" class=\"dataframe\">\n",
       "  <thead>\n",
       "    <tr style=\"text-align: right;\">\n",
       "      <th></th>\n",
       "      <th>Unnamed: 0</th>\n",
       "      <th>favorite_count</th>\n",
       "      <th>id</th>\n",
       "      <th>retweet_count</th>\n",
       "      <th>text</th>\n",
       "      <th>timestamp</th>\n",
       "      <th>user_follower_count</th>\n",
       "      <th>user_id</th>\n",
       "      <th>user_screen_name</th>\n",
       "      <th>true_indicator</th>\n",
       "      <th>original_tweet</th>\n",
       "    </tr>\n",
       "  </thead>\n",
       "  <tbody>\n",
       "    <tr>\n",
       "      <th>0</th>\n",
       "      <td>0</td>\n",
       "      <td>138</td>\n",
       "      <td>9.960000e+17</td>\n",
       "      <td>50</td>\n",
       "      <td>its not easy to vaccinate every child meet dr ...</td>\n",
       "      <td>Tue May 15 14:00:09 +0000 2018</td>\n",
       "      <td>1927191</td>\n",
       "      <td>17899109.0</td>\n",
       "      <td>b'gatesfoundation'</td>\n",
       "      <td>1</td>\n",
       "      <td>It's not easy to vaccinate every child. Meet D...</td>\n",
       "    </tr>\n",
       "    <tr>\n",
       "      <th>1</th>\n",
       "      <td>1</td>\n",
       "      <td>203</td>\n",
       "      <td>9.940000e+17</td>\n",
       "      <td>95</td>\n",
       "      <td>the largest cholera vaccination drive in histo...</td>\n",
       "      <td>Thu May 10 05:00:05 +0000 2018</td>\n",
       "      <td>1927191</td>\n",
       "      <td>17899109.0</td>\n",
       "      <td>b'gatesfoundation'</td>\n",
       "      <td>1</td>\n",
       "      <td>The largest cholera vaccination drive in histo...</td>\n",
       "    </tr>\n",
       "    <tr>\n",
       "      <th>2</th>\n",
       "      <td>2</td>\n",
       "      <td>513</td>\n",
       "      <td>9.900000e+17</td>\n",
       "      <td>244</td>\n",
       "      <td>developing a universal flu vaccine is more fea...</td>\n",
       "      <td>Fri Apr 27 18:00:06 +0000 2018</td>\n",
       "      <td>1927191</td>\n",
       "      <td>17899109.0</td>\n",
       "      <td>b'gatesfoundation'</td>\n",
       "      <td>1</td>\n",
       "      <td>Developing a universal flu vaccine is more fea...</td>\n",
       "    </tr>\n",
       "    <tr>\n",
       "      <th>3</th>\n",
       "      <td>3</td>\n",
       "      <td>45</td>\n",
       "      <td>9.890000e+17</td>\n",
       "      <td>22</td>\n",
       "      <td>exciting news our own johnfmodlin received the...</td>\n",
       "      <td>Thu Apr 26 04:00:06 +0000 2018</td>\n",
       "      <td>1927191</td>\n",
       "      <td>17899109.0</td>\n",
       "      <td>b'gatesfoundation'</td>\n",
       "      <td>1</td>\n",
       "      <td>Exciting news: Our own @JohnFModlin received t...</td>\n",
       "    </tr>\n",
       "    <tr>\n",
       "      <th>4</th>\n",
       "      <td>4</td>\n",
       "      <td>289</td>\n",
       "      <td>9.890000e+17</td>\n",
       "      <td>132</td>\n",
       "      <td>15 million children dying from diseases that c...</td>\n",
       "      <td>Wed Apr 25 17:08:50 +0000 2018</td>\n",
       "      <td>1927191</td>\n",
       "      <td>17899109.0</td>\n",
       "      <td>b'gatesfoundation'</td>\n",
       "      <td>1</td>\n",
       "      <td>1.5 million children dying from diseases that ...</td>\n",
       "    </tr>\n",
       "  </tbody>\n",
       "</table>\n",
       "</div>"
      ],
      "text/plain": [
       "   Unnamed: 0  favorite_count            id  retweet_count  \\\n",
       "0           0             138  9.960000e+17             50   \n",
       "1           1             203  9.940000e+17             95   \n",
       "2           2             513  9.900000e+17            244   \n",
       "3           3              45  9.890000e+17             22   \n",
       "4           4             289  9.890000e+17            132   \n",
       "\n",
       "                                                text  \\\n",
       "0  its not easy to vaccinate every child meet dr ...   \n",
       "1  the largest cholera vaccination drive in histo...   \n",
       "2  developing a universal flu vaccine is more fea...   \n",
       "3  exciting news our own johnfmodlin received the...   \n",
       "4  15 million children dying from diseases that c...   \n",
       "\n",
       "                        timestamp  user_follower_count     user_id  \\\n",
       "0  Tue May 15 14:00:09 +0000 2018              1927191  17899109.0   \n",
       "1  Thu May 10 05:00:05 +0000 2018              1927191  17899109.0   \n",
       "2  Fri Apr 27 18:00:06 +0000 2018              1927191  17899109.0   \n",
       "3  Thu Apr 26 04:00:06 +0000 2018              1927191  17899109.0   \n",
       "4  Wed Apr 25 17:08:50 +0000 2018              1927191  17899109.0   \n",
       "\n",
       "     user_screen_name  true_indicator  \\\n",
       "0  b'gatesfoundation'               1   \n",
       "1  b'gatesfoundation'               1   \n",
       "2  b'gatesfoundation'               1   \n",
       "3  b'gatesfoundation'               1   \n",
       "4  b'gatesfoundation'               1   \n",
       "\n",
       "                                      original_tweet  \n",
       "0  It's not easy to vaccinate every child. Meet D...  \n",
       "1  The largest cholera vaccination drive in histo...  \n",
       "2  Developing a universal flu vaccine is more fea...  \n",
       "3  Exciting news: Our own @JohnFModlin received t...  \n",
       "4  1.5 million children dying from diseases that ...  "
      ]
     },
     "execution_count": 31,
     "metadata": {},
     "output_type": "execute_result"
    }
   ],
   "source": [
    "data['text'] = data['text'].str.replace('[^\\w\\s]','')\n",
    "data.head()"
   ]
  },
  {
   "cell_type": "markdown",
   "metadata": {},
   "source": [
    "Next, I'll remove stop words which don't add any information to the interpretation of sentiment. \n"
   ]
  },
  {
   "cell_type": "code",
   "execution_count": 32,
   "metadata": {},
   "outputs": [
    {
     "data": {
      "text/html": [
       "<div>\n",
       "<style scoped>\n",
       "    .dataframe tbody tr th:only-of-type {\n",
       "        vertical-align: middle;\n",
       "    }\n",
       "\n",
       "    .dataframe tbody tr th {\n",
       "        vertical-align: top;\n",
       "    }\n",
       "\n",
       "    .dataframe thead th {\n",
       "        text-align: right;\n",
       "    }\n",
       "</style>\n",
       "<table border=\"1\" class=\"dataframe\">\n",
       "  <thead>\n",
       "    <tr style=\"text-align: right;\">\n",
       "      <th></th>\n",
       "      <th>Unnamed: 0</th>\n",
       "      <th>favorite_count</th>\n",
       "      <th>id</th>\n",
       "      <th>retweet_count</th>\n",
       "      <th>text</th>\n",
       "      <th>timestamp</th>\n",
       "      <th>user_follower_count</th>\n",
       "      <th>user_id</th>\n",
       "      <th>user_screen_name</th>\n",
       "      <th>true_indicator</th>\n",
       "      <th>original_tweet</th>\n",
       "    </tr>\n",
       "  </thead>\n",
       "  <tbody>\n",
       "    <tr>\n",
       "      <th>0</th>\n",
       "      <td>0</td>\n",
       "      <td>138</td>\n",
       "      <td>9.960000e+17</td>\n",
       "      <td>50</td>\n",
       "      <td>easy vaccinate every child meet dr adele paddl...</td>\n",
       "      <td>Tue May 15 14:00:09 +0000 2018</td>\n",
       "      <td>1927191</td>\n",
       "      <td>17899109.0</td>\n",
       "      <td>b'gatesfoundation'</td>\n",
       "      <td>1</td>\n",
       "      <td>It's not easy to vaccinate every child. Meet D...</td>\n",
       "    </tr>\n",
       "    <tr>\n",
       "      <th>1</th>\n",
       "      <td>1</td>\n",
       "      <td>203</td>\n",
       "      <td>9.940000e+17</td>\n",
       "      <td>95</td>\n",
       "      <td>largest cholera vaccination drive history unde...</td>\n",
       "      <td>Thu May 10 05:00:05 +0000 2018</td>\n",
       "      <td>1927191</td>\n",
       "      <td>17899109.0</td>\n",
       "      <td>b'gatesfoundation'</td>\n",
       "      <td>1</td>\n",
       "      <td>The largest cholera vaccination drive in histo...</td>\n",
       "    </tr>\n",
       "    <tr>\n",
       "      <th>2</th>\n",
       "      <td>2</td>\n",
       "      <td>513</td>\n",
       "      <td>9.900000e+17</td>\n",
       "      <td>244</td>\n",
       "      <td>developing universal flu vaccine feasible 1020...</td>\n",
       "      <td>Fri Apr 27 18:00:06 +0000 2018</td>\n",
       "      <td>1927191</td>\n",
       "      <td>17899109.0</td>\n",
       "      <td>b'gatesfoundation'</td>\n",
       "      <td>1</td>\n",
       "      <td>Developing a universal flu vaccine is more fea...</td>\n",
       "    </tr>\n",
       "    <tr>\n",
       "      <th>3</th>\n",
       "      <td>3</td>\n",
       "      <td>45</td>\n",
       "      <td>9.890000e+17</td>\n",
       "      <td>22</td>\n",
       "      <td>exciting news johnfmodlin received 2018 dr cha...</td>\n",
       "      <td>Thu Apr 26 04:00:06 +0000 2018</td>\n",
       "      <td>1927191</td>\n",
       "      <td>17899109.0</td>\n",
       "      <td>b'gatesfoundation'</td>\n",
       "      <td>1</td>\n",
       "      <td>Exciting news: Our own @JohnFModlin received t...</td>\n",
       "    </tr>\n",
       "    <tr>\n",
       "      <th>4</th>\n",
       "      <td>4</td>\n",
       "      <td>289</td>\n",
       "      <td>9.890000e+17</td>\n",
       "      <td>132</td>\n",
       "      <td>15 million children dying diseases prevented v...</td>\n",
       "      <td>Wed Apr 25 17:08:50 +0000 2018</td>\n",
       "      <td>1927191</td>\n",
       "      <td>17899109.0</td>\n",
       "      <td>b'gatesfoundation'</td>\n",
       "      <td>1</td>\n",
       "      <td>1.5 million children dying from diseases that ...</td>\n",
       "    </tr>\n",
       "  </tbody>\n",
       "</table>\n",
       "</div>"
      ],
      "text/plain": [
       "   Unnamed: 0  favorite_count            id  retweet_count  \\\n",
       "0           0             138  9.960000e+17             50   \n",
       "1           1             203  9.940000e+17             95   \n",
       "2           2             513  9.900000e+17            244   \n",
       "3           3              45  9.890000e+17             22   \n",
       "4           4             289  9.890000e+17            132   \n",
       "\n",
       "                                                text  \\\n",
       "0  easy vaccinate every child meet dr adele paddl...   \n",
       "1  largest cholera vaccination drive history unde...   \n",
       "2  developing universal flu vaccine feasible 1020...   \n",
       "3  exciting news johnfmodlin received 2018 dr cha...   \n",
       "4  15 million children dying diseases prevented v...   \n",
       "\n",
       "                        timestamp  user_follower_count     user_id  \\\n",
       "0  Tue May 15 14:00:09 +0000 2018              1927191  17899109.0   \n",
       "1  Thu May 10 05:00:05 +0000 2018              1927191  17899109.0   \n",
       "2  Fri Apr 27 18:00:06 +0000 2018              1927191  17899109.0   \n",
       "3  Thu Apr 26 04:00:06 +0000 2018              1927191  17899109.0   \n",
       "4  Wed Apr 25 17:08:50 +0000 2018              1927191  17899109.0   \n",
       "\n",
       "     user_screen_name  true_indicator  \\\n",
       "0  b'gatesfoundation'               1   \n",
       "1  b'gatesfoundation'               1   \n",
       "2  b'gatesfoundation'               1   \n",
       "3  b'gatesfoundation'               1   \n",
       "4  b'gatesfoundation'               1   \n",
       "\n",
       "                                      original_tweet  \n",
       "0  It's not easy to vaccinate every child. Meet D...  \n",
       "1  The largest cholera vaccination drive in histo...  \n",
       "2  Developing a universal flu vaccine is more fea...  \n",
       "3  Exciting news: Our own @JohnFModlin received t...  \n",
       "4  1.5 million children dying from diseases that ...  "
      ]
     },
     "execution_count": 32,
     "metadata": {},
     "output_type": "execute_result"
    }
   ],
   "source": [
    "stop = stopwords.words('english')\n",
    "data['text'] = data['text'].apply(lambda x: ' '.join([word for word in x.split() if word not in (stop)]))\n",
    "data.head()"
   ]
  },
  {
   "cell_type": "markdown",
   "metadata": {},
   "source": [
    "Finally, I'll remove numbers using a regular expression to identify the numbers and replace them with a blank."
   ]
  },
  {
   "cell_type": "code",
   "execution_count": 33,
   "metadata": {},
   "outputs": [],
   "source": [
    "data['text']= data['text'].str.replace('\\d+', '')"
   ]
  },
  {
   "cell_type": "markdown",
   "metadata": {},
   "source": [
    "#### Sentiment Analysis"
   ]
  },
  {
   "cell_type": "markdown",
   "metadata": {},
   "source": [
    "Now that the data has been preprocessed, I'll use TextBlob to create a column indicating positive/negative sentiment. TextBlob returned sentiment in a tuple containing both polarity and subjectivity. In the second line of code I take the tuple and split it into separate columns: one for polarity and one for sentiment. Polarity and subjectivity are continuous measures on a scale from -1 to +1. "
   ]
  },
  {
   "cell_type": "code",
   "execution_count": 34,
   "metadata": {},
   "outputs": [
    {
     "data": {
      "text/html": [
       "<div>\n",
       "<style scoped>\n",
       "    .dataframe tbody tr th:only-of-type {\n",
       "        vertical-align: middle;\n",
       "    }\n",
       "\n",
       "    .dataframe tbody tr th {\n",
       "        vertical-align: top;\n",
       "    }\n",
       "\n",
       "    .dataframe thead th {\n",
       "        text-align: right;\n",
       "    }\n",
       "</style>\n",
       "<table border=\"1\" class=\"dataframe\">\n",
       "  <thead>\n",
       "    <tr style=\"text-align: right;\">\n",
       "      <th></th>\n",
       "      <th>Unnamed: 0</th>\n",
       "      <th>favorite_count</th>\n",
       "      <th>id</th>\n",
       "      <th>retweet_count</th>\n",
       "      <th>text</th>\n",
       "      <th>timestamp</th>\n",
       "      <th>user_follower_count</th>\n",
       "      <th>user_id</th>\n",
       "      <th>user_screen_name</th>\n",
       "      <th>true_indicator</th>\n",
       "      <th>original_tweet</th>\n",
       "      <th>sentiment</th>\n",
       "      <th>polarity</th>\n",
       "      <th>subjectivity</th>\n",
       "    </tr>\n",
       "  </thead>\n",
       "  <tbody>\n",
       "    <tr>\n",
       "      <th>0</th>\n",
       "      <td>0</td>\n",
       "      <td>138</td>\n",
       "      <td>9.960000e+17</td>\n",
       "      <td>50</td>\n",
       "      <td>easy vaccinate every child meet dr adele paddl...</td>\n",
       "      <td>Tue May 15 14:00:09 +0000 2018</td>\n",
       "      <td>1927191</td>\n",
       "      <td>17899109.0</td>\n",
       "      <td>b'gatesfoundation'</td>\n",
       "      <td>1</td>\n",
       "      <td>It's not easy to vaccinate every child. Meet D...</td>\n",
       "      <td>(0.43333333333333335, 0.8333333333333334)</td>\n",
       "      <td>0.433333</td>\n",
       "      <td>0.833333</td>\n",
       "    </tr>\n",
       "    <tr>\n",
       "      <th>1</th>\n",
       "      <td>1</td>\n",
       "      <td>203</td>\n",
       "      <td>9.940000e+17</td>\n",
       "      <td>95</td>\n",
       "      <td>largest cholera vaccination drive history unde...</td>\n",
       "      <td>Thu May 10 05:00:05 +0000 2018</td>\n",
       "      <td>1927191</td>\n",
       "      <td>17899109.0</td>\n",
       "      <td>b'gatesfoundation'</td>\n",
       "      <td>1</td>\n",
       "      <td>The largest cholera vaccination drive in histo...</td>\n",
       "      <td>(0.0, 0.0)</td>\n",
       "      <td>0.000000</td>\n",
       "      <td>0.000000</td>\n",
       "    </tr>\n",
       "    <tr>\n",
       "      <th>2</th>\n",
       "      <td>2</td>\n",
       "      <td>513</td>\n",
       "      <td>9.900000e+17</td>\n",
       "      <td>244</td>\n",
       "      <td>developing universal flu vaccine feasible  yea...</td>\n",
       "      <td>Fri Apr 27 18:00:06 +0000 2018</td>\n",
       "      <td>1927191</td>\n",
       "      <td>17899109.0</td>\n",
       "      <td>b'gatesfoundation'</td>\n",
       "      <td>1</td>\n",
       "      <td>Developing a universal flu vaccine is more fea...</td>\n",
       "      <td>(0.5, 0.43333333333333335)</td>\n",
       "      <td>0.500000</td>\n",
       "      <td>0.433333</td>\n",
       "    </tr>\n",
       "    <tr>\n",
       "      <th>3</th>\n",
       "      <td>3</td>\n",
       "      <td>45</td>\n",
       "      <td>9.890000e+17</td>\n",
       "      <td>22</td>\n",
       "      <td>exciting news johnfmodlin received  dr charles...</td>\n",
       "      <td>Thu Apr 26 04:00:06 +0000 2018</td>\n",
       "      <td>1927191</td>\n",
       "      <td>17899109.0</td>\n",
       "      <td>b'gatesfoundation'</td>\n",
       "      <td>1</td>\n",
       "      <td>Exciting news: Our own @JohnFModlin received t...</td>\n",
       "      <td>(0.3, 0.8)</td>\n",
       "      <td>0.300000</td>\n",
       "      <td>0.800000</td>\n",
       "    </tr>\n",
       "    <tr>\n",
       "      <th>4</th>\n",
       "      <td>4</td>\n",
       "      <td>289</td>\n",
       "      <td>9.890000e+17</td>\n",
       "      <td>132</td>\n",
       "      <td>million children dying diseases prevented vac...</td>\n",
       "      <td>Wed Apr 25 17:08:50 +0000 2018</td>\n",
       "      <td>1927191</td>\n",
       "      <td>17899109.0</td>\n",
       "      <td>b'gatesfoundation'</td>\n",
       "      <td>1</td>\n",
       "      <td>1.5 million children dying from diseases that ...</td>\n",
       "      <td>(-0.2, 0.6)</td>\n",
       "      <td>-0.200000</td>\n",
       "      <td>0.600000</td>\n",
       "    </tr>\n",
       "  </tbody>\n",
       "</table>\n",
       "</div>"
      ],
      "text/plain": [
       "   Unnamed: 0  favorite_count            id  retweet_count  \\\n",
       "0           0             138  9.960000e+17             50   \n",
       "1           1             203  9.940000e+17             95   \n",
       "2           2             513  9.900000e+17            244   \n",
       "3           3              45  9.890000e+17             22   \n",
       "4           4             289  9.890000e+17            132   \n",
       "\n",
       "                                                text  \\\n",
       "0  easy vaccinate every child meet dr adele paddl...   \n",
       "1  largest cholera vaccination drive history unde...   \n",
       "2  developing universal flu vaccine feasible  yea...   \n",
       "3  exciting news johnfmodlin received  dr charles...   \n",
       "4   million children dying diseases prevented vac...   \n",
       "\n",
       "                        timestamp  user_follower_count     user_id  \\\n",
       "0  Tue May 15 14:00:09 +0000 2018              1927191  17899109.0   \n",
       "1  Thu May 10 05:00:05 +0000 2018              1927191  17899109.0   \n",
       "2  Fri Apr 27 18:00:06 +0000 2018              1927191  17899109.0   \n",
       "3  Thu Apr 26 04:00:06 +0000 2018              1927191  17899109.0   \n",
       "4  Wed Apr 25 17:08:50 +0000 2018              1927191  17899109.0   \n",
       "\n",
       "     user_screen_name  true_indicator  \\\n",
       "0  b'gatesfoundation'               1   \n",
       "1  b'gatesfoundation'               1   \n",
       "2  b'gatesfoundation'               1   \n",
       "3  b'gatesfoundation'               1   \n",
       "4  b'gatesfoundation'               1   \n",
       "\n",
       "                                      original_tweet  \\\n",
       "0  It's not easy to vaccinate every child. Meet D...   \n",
       "1  The largest cholera vaccination drive in histo...   \n",
       "2  Developing a universal flu vaccine is more fea...   \n",
       "3  Exciting news: Our own @JohnFModlin received t...   \n",
       "4  1.5 million children dying from diseases that ...   \n",
       "\n",
       "                                   sentiment  polarity  subjectivity  \n",
       "0  (0.43333333333333335, 0.8333333333333334)  0.433333      0.833333  \n",
       "1                                 (0.0, 0.0)  0.000000      0.000000  \n",
       "2                 (0.5, 0.43333333333333335)  0.500000      0.433333  \n",
       "3                                 (0.3, 0.8)  0.300000      0.800000  \n",
       "4                                (-0.2, 0.6) -0.200000      0.600000  "
      ]
     },
     "execution_count": 34,
     "metadata": {},
     "output_type": "execute_result"
    }
   ],
   "source": [
    "data['sentiment'] = data['text'].apply(lambda tweet: TextBlob(tweet).sentiment)\n",
    "data[['polarity', 'subjectivity']] = data['sentiment'].apply(pd.Series)\n",
    "data.head()"
   ]
  },
  {
   "cell_type": "markdown",
   "metadata": {},
   "source": [
    "I'll also create a categorical version of polarity. To do this I've created a function where measures greater than 0 are positive, equal to 0 are neutral, and less than 0 are negative."
   ]
  },
  {
   "cell_type": "code",
   "execution_count": 35,
   "metadata": {},
   "outputs": [],
   "source": [
    "def f(row):\n",
    "    if row['polarity'] == 0:\n",
    "        val = 'neutral'\n",
    "    elif row['polarity'] > 0:\n",
    "        val = 'positive'\n",
    "    else:\n",
    "        val = 'negative'\n",
    "    return val"
   ]
  },
  {
   "cell_type": "markdown",
   "metadata": {},
   "source": [
    "Next I take the function and apply it to the continuous polarity column to create the categorical version called \"cat_polarity\". "
   ]
  },
  {
   "cell_type": "code",
   "execution_count": 36,
   "metadata": {},
   "outputs": [
    {
     "data": {
      "text/html": [
       "<div>\n",
       "<style scoped>\n",
       "    .dataframe tbody tr th:only-of-type {\n",
       "        vertical-align: middle;\n",
       "    }\n",
       "\n",
       "    .dataframe tbody tr th {\n",
       "        vertical-align: top;\n",
       "    }\n",
       "\n",
       "    .dataframe thead th {\n",
       "        text-align: right;\n",
       "    }\n",
       "</style>\n",
       "<table border=\"1\" class=\"dataframe\">\n",
       "  <thead>\n",
       "    <tr style=\"text-align: right;\">\n",
       "      <th></th>\n",
       "      <th>Unnamed: 0</th>\n",
       "      <th>favorite_count</th>\n",
       "      <th>id</th>\n",
       "      <th>retweet_count</th>\n",
       "      <th>text</th>\n",
       "      <th>timestamp</th>\n",
       "      <th>user_follower_count</th>\n",
       "      <th>user_id</th>\n",
       "      <th>user_screen_name</th>\n",
       "      <th>true_indicator</th>\n",
       "      <th>original_tweet</th>\n",
       "      <th>sentiment</th>\n",
       "      <th>polarity</th>\n",
       "      <th>subjectivity</th>\n",
       "      <th>cat_polarity</th>\n",
       "    </tr>\n",
       "  </thead>\n",
       "  <tbody>\n",
       "    <tr>\n",
       "      <th>0</th>\n",
       "      <td>0</td>\n",
       "      <td>138</td>\n",
       "      <td>9.960000e+17</td>\n",
       "      <td>50</td>\n",
       "      <td>easy vaccinate every child meet dr adele paddl...</td>\n",
       "      <td>Tue May 15 14:00:09 +0000 2018</td>\n",
       "      <td>1927191</td>\n",
       "      <td>17899109.0</td>\n",
       "      <td>b'gatesfoundation'</td>\n",
       "      <td>1</td>\n",
       "      <td>It's not easy to vaccinate every child. Meet D...</td>\n",
       "      <td>(0.43333333333333335, 0.8333333333333334)</td>\n",
       "      <td>0.433333</td>\n",
       "      <td>0.833333</td>\n",
       "      <td>positive</td>\n",
       "    </tr>\n",
       "    <tr>\n",
       "      <th>1</th>\n",
       "      <td>1</td>\n",
       "      <td>203</td>\n",
       "      <td>9.940000e+17</td>\n",
       "      <td>95</td>\n",
       "      <td>largest cholera vaccination drive history unde...</td>\n",
       "      <td>Thu May 10 05:00:05 +0000 2018</td>\n",
       "      <td>1927191</td>\n",
       "      <td>17899109.0</td>\n",
       "      <td>b'gatesfoundation'</td>\n",
       "      <td>1</td>\n",
       "      <td>The largest cholera vaccination drive in histo...</td>\n",
       "      <td>(0.0, 0.0)</td>\n",
       "      <td>0.000000</td>\n",
       "      <td>0.000000</td>\n",
       "      <td>neutral</td>\n",
       "    </tr>\n",
       "    <tr>\n",
       "      <th>2</th>\n",
       "      <td>2</td>\n",
       "      <td>513</td>\n",
       "      <td>9.900000e+17</td>\n",
       "      <td>244</td>\n",
       "      <td>developing universal flu vaccine feasible  yea...</td>\n",
       "      <td>Fri Apr 27 18:00:06 +0000 2018</td>\n",
       "      <td>1927191</td>\n",
       "      <td>17899109.0</td>\n",
       "      <td>b'gatesfoundation'</td>\n",
       "      <td>1</td>\n",
       "      <td>Developing a universal flu vaccine is more fea...</td>\n",
       "      <td>(0.5, 0.43333333333333335)</td>\n",
       "      <td>0.500000</td>\n",
       "      <td>0.433333</td>\n",
       "      <td>positive</td>\n",
       "    </tr>\n",
       "    <tr>\n",
       "      <th>3</th>\n",
       "      <td>3</td>\n",
       "      <td>45</td>\n",
       "      <td>9.890000e+17</td>\n",
       "      <td>22</td>\n",
       "      <td>exciting news johnfmodlin received  dr charles...</td>\n",
       "      <td>Thu Apr 26 04:00:06 +0000 2018</td>\n",
       "      <td>1927191</td>\n",
       "      <td>17899109.0</td>\n",
       "      <td>b'gatesfoundation'</td>\n",
       "      <td>1</td>\n",
       "      <td>Exciting news: Our own @JohnFModlin received t...</td>\n",
       "      <td>(0.3, 0.8)</td>\n",
       "      <td>0.300000</td>\n",
       "      <td>0.800000</td>\n",
       "      <td>positive</td>\n",
       "    </tr>\n",
       "    <tr>\n",
       "      <th>4</th>\n",
       "      <td>4</td>\n",
       "      <td>289</td>\n",
       "      <td>9.890000e+17</td>\n",
       "      <td>132</td>\n",
       "      <td>million children dying diseases prevented vac...</td>\n",
       "      <td>Wed Apr 25 17:08:50 +0000 2018</td>\n",
       "      <td>1927191</td>\n",
       "      <td>17899109.0</td>\n",
       "      <td>b'gatesfoundation'</td>\n",
       "      <td>1</td>\n",
       "      <td>1.5 million children dying from diseases that ...</td>\n",
       "      <td>(-0.2, 0.6)</td>\n",
       "      <td>-0.200000</td>\n",
       "      <td>0.600000</td>\n",
       "      <td>negative</td>\n",
       "    </tr>\n",
       "  </tbody>\n",
       "</table>\n",
       "</div>"
      ],
      "text/plain": [
       "   Unnamed: 0  favorite_count            id  retweet_count  \\\n",
       "0           0             138  9.960000e+17             50   \n",
       "1           1             203  9.940000e+17             95   \n",
       "2           2             513  9.900000e+17            244   \n",
       "3           3              45  9.890000e+17             22   \n",
       "4           4             289  9.890000e+17            132   \n",
       "\n",
       "                                                text  \\\n",
       "0  easy vaccinate every child meet dr adele paddl...   \n",
       "1  largest cholera vaccination drive history unde...   \n",
       "2  developing universal flu vaccine feasible  yea...   \n",
       "3  exciting news johnfmodlin received  dr charles...   \n",
       "4   million children dying diseases prevented vac...   \n",
       "\n",
       "                        timestamp  user_follower_count     user_id  \\\n",
       "0  Tue May 15 14:00:09 +0000 2018              1927191  17899109.0   \n",
       "1  Thu May 10 05:00:05 +0000 2018              1927191  17899109.0   \n",
       "2  Fri Apr 27 18:00:06 +0000 2018              1927191  17899109.0   \n",
       "3  Thu Apr 26 04:00:06 +0000 2018              1927191  17899109.0   \n",
       "4  Wed Apr 25 17:08:50 +0000 2018              1927191  17899109.0   \n",
       "\n",
       "     user_screen_name  true_indicator  \\\n",
       "0  b'gatesfoundation'               1   \n",
       "1  b'gatesfoundation'               1   \n",
       "2  b'gatesfoundation'               1   \n",
       "3  b'gatesfoundation'               1   \n",
       "4  b'gatesfoundation'               1   \n",
       "\n",
       "                                      original_tweet  \\\n",
       "0  It's not easy to vaccinate every child. Meet D...   \n",
       "1  The largest cholera vaccination drive in histo...   \n",
       "2  Developing a universal flu vaccine is more fea...   \n",
       "3  Exciting news: Our own @JohnFModlin received t...   \n",
       "4  1.5 million children dying from diseases that ...   \n",
       "\n",
       "                                   sentiment  polarity  subjectivity  \\\n",
       "0  (0.43333333333333335, 0.8333333333333334)  0.433333      0.833333   \n",
       "1                                 (0.0, 0.0)  0.000000      0.000000   \n",
       "2                 (0.5, 0.43333333333333335)  0.500000      0.433333   \n",
       "3                                 (0.3, 0.8)  0.300000      0.800000   \n",
       "4                                (-0.2, 0.6) -0.200000      0.600000   \n",
       "\n",
       "  cat_polarity  \n",
       "0     positive  \n",
       "1      neutral  \n",
       "2     positive  \n",
       "3     positive  \n",
       "4     negative  "
      ]
     },
     "execution_count": 36,
     "metadata": {},
     "output_type": "execute_result"
    }
   ],
   "source": [
    "data['cat_polarity'] = data.apply(f, axis=1)\n",
    "data.head()"
   ]
  },
  {
   "cell_type": "markdown",
   "metadata": {},
   "source": [
    "To clean up the dataset I'll drop unnecessary columns. "
   ]
  },
  {
   "cell_type": "code",
   "execution_count": 37,
   "metadata": {},
   "outputs": [
    {
     "data": {
      "text/html": [
       "<div>\n",
       "<style scoped>\n",
       "    .dataframe tbody tr th:only-of-type {\n",
       "        vertical-align: middle;\n",
       "    }\n",
       "\n",
       "    .dataframe tbody tr th {\n",
       "        vertical-align: top;\n",
       "    }\n",
       "\n",
       "    .dataframe thead th {\n",
       "        text-align: right;\n",
       "    }\n",
       "</style>\n",
       "<table border=\"1\" class=\"dataframe\">\n",
       "  <thead>\n",
       "    <tr style=\"text-align: right;\">\n",
       "      <th></th>\n",
       "      <th>favorite_count</th>\n",
       "      <th>id</th>\n",
       "      <th>retweet_count</th>\n",
       "      <th>text</th>\n",
       "      <th>timestamp</th>\n",
       "      <th>user_follower_count</th>\n",
       "      <th>user_id</th>\n",
       "      <th>user_screen_name</th>\n",
       "      <th>true_indicator</th>\n",
       "      <th>original_tweet</th>\n",
       "      <th>polarity</th>\n",
       "      <th>subjectivity</th>\n",
       "      <th>cat_polarity</th>\n",
       "    </tr>\n",
       "  </thead>\n",
       "  <tbody>\n",
       "    <tr>\n",
       "      <th>0</th>\n",
       "      <td>138</td>\n",
       "      <td>9.960000e+17</td>\n",
       "      <td>50</td>\n",
       "      <td>easy vaccinate every child meet dr adele paddl...</td>\n",
       "      <td>Tue May 15 14:00:09 +0000 2018</td>\n",
       "      <td>1927191</td>\n",
       "      <td>17899109.0</td>\n",
       "      <td>b'gatesfoundation'</td>\n",
       "      <td>1</td>\n",
       "      <td>It's not easy to vaccinate every child. Meet D...</td>\n",
       "      <td>0.433333</td>\n",
       "      <td>0.833333</td>\n",
       "      <td>positive</td>\n",
       "    </tr>\n",
       "    <tr>\n",
       "      <th>1</th>\n",
       "      <td>203</td>\n",
       "      <td>9.940000e+17</td>\n",
       "      <td>95</td>\n",
       "      <td>largest cholera vaccination drive history unde...</td>\n",
       "      <td>Thu May 10 05:00:05 +0000 2018</td>\n",
       "      <td>1927191</td>\n",
       "      <td>17899109.0</td>\n",
       "      <td>b'gatesfoundation'</td>\n",
       "      <td>1</td>\n",
       "      <td>The largest cholera vaccination drive in histo...</td>\n",
       "      <td>0.000000</td>\n",
       "      <td>0.000000</td>\n",
       "      <td>neutral</td>\n",
       "    </tr>\n",
       "    <tr>\n",
       "      <th>2</th>\n",
       "      <td>513</td>\n",
       "      <td>9.900000e+17</td>\n",
       "      <td>244</td>\n",
       "      <td>developing universal flu vaccine feasible  yea...</td>\n",
       "      <td>Fri Apr 27 18:00:06 +0000 2018</td>\n",
       "      <td>1927191</td>\n",
       "      <td>17899109.0</td>\n",
       "      <td>b'gatesfoundation'</td>\n",
       "      <td>1</td>\n",
       "      <td>Developing a universal flu vaccine is more fea...</td>\n",
       "      <td>0.500000</td>\n",
       "      <td>0.433333</td>\n",
       "      <td>positive</td>\n",
       "    </tr>\n",
       "    <tr>\n",
       "      <th>3</th>\n",
       "      <td>45</td>\n",
       "      <td>9.890000e+17</td>\n",
       "      <td>22</td>\n",
       "      <td>exciting news johnfmodlin received  dr charles...</td>\n",
       "      <td>Thu Apr 26 04:00:06 +0000 2018</td>\n",
       "      <td>1927191</td>\n",
       "      <td>17899109.0</td>\n",
       "      <td>b'gatesfoundation'</td>\n",
       "      <td>1</td>\n",
       "      <td>Exciting news: Our own @JohnFModlin received t...</td>\n",
       "      <td>0.300000</td>\n",
       "      <td>0.800000</td>\n",
       "      <td>positive</td>\n",
       "    </tr>\n",
       "    <tr>\n",
       "      <th>4</th>\n",
       "      <td>289</td>\n",
       "      <td>9.890000e+17</td>\n",
       "      <td>132</td>\n",
       "      <td>million children dying diseases prevented vac...</td>\n",
       "      <td>Wed Apr 25 17:08:50 +0000 2018</td>\n",
       "      <td>1927191</td>\n",
       "      <td>17899109.0</td>\n",
       "      <td>b'gatesfoundation'</td>\n",
       "      <td>1</td>\n",
       "      <td>1.5 million children dying from diseases that ...</td>\n",
       "      <td>-0.200000</td>\n",
       "      <td>0.600000</td>\n",
       "      <td>negative</td>\n",
       "    </tr>\n",
       "  </tbody>\n",
       "</table>\n",
       "</div>"
      ],
      "text/plain": [
       "   favorite_count            id  retweet_count  \\\n",
       "0             138  9.960000e+17             50   \n",
       "1             203  9.940000e+17             95   \n",
       "2             513  9.900000e+17            244   \n",
       "3              45  9.890000e+17             22   \n",
       "4             289  9.890000e+17            132   \n",
       "\n",
       "                                                text  \\\n",
       "0  easy vaccinate every child meet dr adele paddl...   \n",
       "1  largest cholera vaccination drive history unde...   \n",
       "2  developing universal flu vaccine feasible  yea...   \n",
       "3  exciting news johnfmodlin received  dr charles...   \n",
       "4   million children dying diseases prevented vac...   \n",
       "\n",
       "                        timestamp  user_follower_count     user_id  \\\n",
       "0  Tue May 15 14:00:09 +0000 2018              1927191  17899109.0   \n",
       "1  Thu May 10 05:00:05 +0000 2018              1927191  17899109.0   \n",
       "2  Fri Apr 27 18:00:06 +0000 2018              1927191  17899109.0   \n",
       "3  Thu Apr 26 04:00:06 +0000 2018              1927191  17899109.0   \n",
       "4  Wed Apr 25 17:08:50 +0000 2018              1927191  17899109.0   \n",
       "\n",
       "     user_screen_name  true_indicator  \\\n",
       "0  b'gatesfoundation'               1   \n",
       "1  b'gatesfoundation'               1   \n",
       "2  b'gatesfoundation'               1   \n",
       "3  b'gatesfoundation'               1   \n",
       "4  b'gatesfoundation'               1   \n",
       "\n",
       "                                      original_tweet  polarity  subjectivity  \\\n",
       "0  It's not easy to vaccinate every child. Meet D...  0.433333      0.833333   \n",
       "1  The largest cholera vaccination drive in histo...  0.000000      0.000000   \n",
       "2  Developing a universal flu vaccine is more fea...  0.500000      0.433333   \n",
       "3  Exciting news: Our own @JohnFModlin received t...  0.300000      0.800000   \n",
       "4  1.5 million children dying from diseases that ... -0.200000      0.600000   \n",
       "\n",
       "  cat_polarity  \n",
       "0     positive  \n",
       "1      neutral  \n",
       "2     positive  \n",
       "3     positive  \n",
       "4     negative  "
      ]
     },
     "execution_count": 37,
     "metadata": {},
     "output_type": "execute_result"
    }
   ],
   "source": [
    "data.drop(['Unnamed: 0', 'sentiment'], axis=1, inplace=True)\n",
    "data.head()"
   ]
  },
  {
   "cell_type": "markdown",
   "metadata": {},
   "source": [
    "#### Descriptive Statistics and Plots"
   ]
  },
  {
   "cell_type": "markdown",
   "metadata": {},
   "source": [
    "First, out of curiosity, I'd like to take a look at the tweet with the most favorites and the most retweets. To do this I'll first pull the tweet with the most favorites and retweets from the dataframe, count the number of favorites and retweets, and print the results. "
   ]
  },
  {
   "cell_type": "code",
   "execution_count": 43,
   "metadata": {},
   "outputs": [
    {
     "name": "stdout",
     "output_type": "stream",
     "text": [
      "The tweet with most favorites is: \n",
      "375    a) vaccines don't cause autism\\nb) EVEN IF THE...\n",
      "375    Don’t miss the presentation on “Suspected adve...\n",
      "Name: original_tweet, dtype: object\n",
      "Number of likes: 188051\n",
      "The tweet with most retweets is: \n",
      "375    a) vaccines don't cause autism\\nb) EVEN IF THE...\n",
      "375    Don’t miss the presentation on “Suspected adve...\n",
      "Name: original_tweet, dtype: object\n",
      "Number of retweets: 55655\n"
     ]
    }
   ],
   "source": [
    "fav_max = np.max(data['favorite_count'])\n",
    "rt_max  = np.max(data['retweet_count'])\n",
    "\n",
    "fav = data[data.favorite_count == fav_max].index[0]\n",
    "rt  = data[data.retweet_count == rt_max].index[0]\n",
    "\n",
    "print(\"The tweet with most favorites is: \\n{}\".format(data['original_tweet'][fav]))\n",
    "print(\"Number of likes: {}\".format(fav_max))\n",
    "\n",
    "print(\"The tweet with most retweets is: \\n{}\".format(data['original_tweet'][rt]))\n",
    "print(\"Number of retweets: {}\".format(rt_max))"
   ]
  },
  {
   "cell_type": "markdown",
   "metadata": {},
   "source": [
    "Next I want to calculate which percentage of the tweets are positive, neutral, and negative. To do this I'll manually calculate the percentages using count functions. "
   ]
  },
  {
   "cell_type": "code",
   "execution_count": 44,
   "metadata": {},
   "outputs": [
    {
     "data": {
      "text/plain": [
       "1091"
      ]
     },
     "execution_count": 44,
     "metadata": {},
     "output_type": "execute_result"
    }
   ],
   "source": [
    "total_rows=len(data.axes[0])\n",
    "total_rows"
   ]
  },
  {
   "cell_type": "code",
   "execution_count": 45,
   "metadata": {},
   "outputs": [
    {
     "data": {
      "text/plain": [
       "positive    460\n",
       "neutral     458\n",
       "negative    173\n",
       "Name: cat_polarity, dtype: int64"
      ]
     },
     "execution_count": 45,
     "metadata": {},
     "output_type": "execute_result"
    }
   ],
   "source": [
    "data['cat_polarity'].value_counts()"
   ]
  },
  {
   "cell_type": "code",
   "execution_count": 46,
   "metadata": {},
   "outputs": [
    {
     "name": "stdout",
     "output_type": "stream",
     "text": [
      "Percentage of positive tweets: 0.4216315307057745%\n",
      "Percentage of neutral tweets: 0.41979835013748856%\n",
      "Percentage de negative tweets: 0.15857011915673694%\n"
     ]
    }
   ],
   "source": [
    "print(\"Percentage of positive tweets: {}%\".format(460/total_rows))\n",
    "print(\"Percentage of neutral tweets: {}%\".format(458/total_rows))\n",
    "print(\"Percentage de negative tweets: {}%\".format(173/total_rows))"
   ]
  },
  {
   "cell_type": "markdown",
   "metadata": {},
   "source": [
    "I also want to create a bar chart of the number of positive, neutral, and negative tweets. "
   ]
  },
  {
   "cell_type": "code",
   "execution_count": 47,
   "metadata": {},
   "outputs": [
    {
     "data": {
      "text/plain": [
       "<matplotlib.axes._subplots.AxesSubplot at 0x1a0d2ed048>"
      ]
     },
     "execution_count": 47,
     "metadata": {},
     "output_type": "execute_result"
    },
    {
     "data": {
      "image/png": "[encoded data removed]",
      "text/plain": [
       "<matplotlib.figure.Figure at 0x1a0df080b8>"
      ]
     },
     "metadata": {},
     "output_type": "display_data"
    }
   ],
   "source": [
    "data['cat_polarity'].value_counts().plot(kind='bar')"
   ]
  },
  {
   "cell_type": "markdown",
   "metadata": {},
   "source": [
    "In addition, I want to see a histogram of the continuous polarity variable. "
   ]
  },
  {
   "cell_type": "code",
   "execution_count": 48,
   "metadata": {},
   "outputs": [
    {
     "data": {
      "text/plain": [
       "(array([  6.,  10.,  35.,  50.,  72., 210., 159.,  67.,  14.,  10.]),\n",
       " array([-1. , -0.8, -0.6, -0.4, -0.2,  0. ,  0.2,  0.4,  0.6,  0.8,  1. ]),\n",
       " <a list of 10 Patch objects>)"
      ]
     },
     "execution_count": 48,
     "metadata": {},
     "output_type": "execute_result"
    },
    {
     "data": {
      "image/png": "[encoded data removed]",
      "text/plain": [
       "<matplotlib.figure.Figure at 0x1a0df08898>"
      ]
     },
     "metadata": {},
     "output_type": "display_data"
    }
   ],
   "source": [
    "plt.hist(data['polarity'][data['polarity'] != 0 ])"
   ]
  },
  {
   "cell_type": "code",
   "execution_count": null,
   "metadata": {},
   "outputs": [],
   "source": [
    "Next I want to see if certain users could be classified as positive/negative tweeters. This next plot shows each user and a boxplot of the polarity of their tweets. "
   ]
  },
  {
   "cell_type": "code",
   "execution_count": 56,
   "metadata": {},
   "outputs": [],
   "source": [
    "char_list = data.groupby('id')['id'].count().index\n",
    "my_id1 = char_list[ data.groupby('id')['id'].count() > 0 ]"
   ]
  },
  {
   "cell_type": "code",
   "execution_count": 57,
   "metadata": {},
   "outputs": [],
   "source": [
    "data_id1 = data.loc[ [this_id in my_id1 for this_id in data['id']] ]"
   ]
  },
  {
   "cell_type": "code",
   "execution_count": 58,
   "metadata": {},
   "outputs": [
    {
     "data": {
      "image/png": "[encoded data removed]",
      "text/plain": [
       "<matplotlib.figure.Figure at 0x1a16779240>"
      ]
     },
     "metadata": {},
     "output_type": "display_data"
    }
   ],
   "source": [
    "f, ax = plt.subplots(1,1,figsize=(7,5))\n",
    "ax = sns.boxplot(x=\"id\", y=\"polarity\", data=data_id1)"
   ]
  },
  {
   "cell_type": "markdown",
   "metadata": {},
   "source": [
    "Because the first plot is difficult to view, I'll create a second plot containing only users who have contributed more than 25 tweets to the dataset. It appears that the most prolific tweeters are also the most positive. "
   ]
  },
  {
   "cell_type": "code",
   "execution_count": 59,
   "metadata": {},
   "outputs": [],
   "source": [
    "my_id2 = char_list[ data.groupby('id')['id'].count() > 25 ]"
   ]
  },
  {
   "cell_type": "code",
   "execution_count": 60,
   "metadata": {},
   "outputs": [],
   "source": [
    "data_id2 = data.loc[ [this_id in my_id2 for this_id in data['id']] ]"
   ]
  },
  {
   "cell_type": "code",
   "execution_count": 61,
   "metadata": {},
   "outputs": [
    {
     "data": {
      "image/png": "[encoded data removed]",
      "text/plain": [
       "<matplotlib.figure.Figure at 0x1a0d4e7668>"
      ]
     },
     "metadata": {},
     "output_type": "display_data"
    }
   ],
   "source": [
    "f, ax = plt.subplots(1,1,figsize=(7,5))\n",
    "ax = sns.boxplot(x=\"id\", y=\"polarity\", data=data_id2)"
   ]
  },
  {
   "cell_type": "markdown",
   "metadata": {},
   "source": [
    "Lastly, I want to create a word cloud to visualize the most commonly used words. First I'll join the preprocessed tweets into a single string, then I'll use the WordCloud package."
   ]
  },
  {
   "cell_type": "code",
   "execution_count": 62,
   "metadata": {},
   "outputs": [],
   "source": [
    "words = ' '.join(data['text'])"
   ]
  },
  {
   "cell_type": "code",
   "execution_count": 67,
   "metadata": {},
   "outputs": [],
   "source": [
    "wordcloud = WordCloud(\n",
    "                      background_color='black',\n",
    "                      width=1800,\n",
    "                      height=1400\n",
    "                     ).generate(words)"
   ]
  },
  {
   "cell_type": "code",
   "execution_count": 68,
   "metadata": {},
   "outputs": [
    {
     "data": {
      "image/png": "[encoded data removed]",
      "text/plain": [
       "<matplotlib.figure.Figure at 0x1a0d5c2358>"
      ]
     },
     "metadata": {},
     "output_type": "display_data"
    }
   ],
   "source": [
    "plt.imshow(wordcloud)\n",
    "plt.axis('off')\n",
    "plt.savefig('./my_twitter_wordcloud_1.png', dpi=300)\n",
    "plt.show()"
   ]
  },
  {
   "cell_type": "markdown",
   "metadata": {},
   "source": [
    "Just for fun I'm going to create the same word cloud, but apply a mask in the shape of the twitter logo. "
   ]
  },
  {
   "cell_type": "code",
   "execution_count": 70,
   "metadata": {},
   "outputs": [],
   "source": [
    "twitter_mask = imageio.imread('/Users/madelinecraft/Desktop/Classes/Python/twitter_mask.png')"
   ]
  },
  {
   "cell_type": "code",
   "execution_count": 72,
   "metadata": {},
   "outputs": [
    {
     "name": "stderr",
     "output_type": "stream",
     "text": [
      "/anaconda3/lib/python3.6/site-packages/wordcloud/wordcloud.py:370: UserWarning: mask image should be unsigned byte between 0 and 255. Got a float array\n",
      "  warnings.warn(\"mask image should be unsigned byte between 0\"\n"
     ]
    }
   ],
   "source": [
    "wordcloud = WordCloud(\n",
    "                      background_color='white',\n",
    "                      width=1800,\n",
    "                      height=1400,\n",
    "                      mask=twitter_mask\n",
    "                     ).generate(words)"
   ]
  },
  {
   "cell_type": "code",
   "execution_count": 73,
   "metadata": {},
   "outputs": [
    {
     "data": {
      "image/png": "[encoded data removed]",
      "text/plain": [
       "<matplotlib.figure.Figure at 0x1a0d5d28d0>"
      ]
     },
     "metadata": {},
     "output_type": "display_data"
    }
   ],
   "source": [
    "plt.imshow(wordcloud)\n",
    "plt.axis(\"off\")\n",
    "plt.savefig('./my_twitter_wordcloud_2.png', dpi=300)\n",
    "plt.show()"
   ]
  },
  {
   "cell_type": "markdown",
   "metadata": {},
   "source": [
    "#### Convert Dataframe to a csv"
   ]
  },
  {
   "cell_type": "markdown",
   "metadata": {},
   "source": [
    "This csv and the sentiment analysis that it contains will be used by Anna to fit a machine learning model which classifies correct information and misinformation based on sentiment and other covariates. "
   ]
  },
  {
   "cell_type": "code",
   "execution_count": 74,
   "metadata": {},
   "outputs": [],
   "source": [
    "data.to_csv('stacked_data.csv')"
   ]
  }
 ],
 "metadata": {
  "kernelspec": {
   "display_name": "Python 3",
   "language": "python",
   "name": "python3"
  },
  "language_info": {
   "codemirror_mode": {
    "name": "ipython",
    "version": 3
   },
   "file_extension": ".py",
   "mimetype": "text/x-python",
   "name": "python",
   "nbconvert_exporter": "python",
   "pygments_lexer": "ipython3",
   "version": "3.6.4"
  }
 },
 "nbformat": 4,
 "nbformat_minor": 2
}
